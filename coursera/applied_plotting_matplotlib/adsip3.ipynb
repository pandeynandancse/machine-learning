{
 "cells": [
  {
   "cell_type": "code",
   "execution_count": null,
   "metadata": {},
   "outputs": [],
   "source": [
    "import matplotlib.pyplot as plt\n",
    "import pandas as pd\n",
    "import numpy as np\n",
    "import seaborn\n",
    "from matplotlib import cm\n",
    "\n",
    "%matplotlib notebook\n",
    "\n",
    "np.random.seed(12345)\n",
    "\n",
    "df = pd.DataFrame([np.random.normal(33500,150000,3650), \n",
    "                   np.random.normal(41000,90000,3650), \n",
    "                   np.random.normal(41000,120000,3650), \n",
    "                   np.random.normal(48000,55000,3650)], \n",
    "                  index=[1992,1993,1994,1995])\n",
    "\n",
    "y = (df.mean(axis = 1)) - 36000 + 3515.919393\n",
    "plt.figure()\n",
    "colors = cm.hsv(y / float(max(y)))\n",
    "plot = plt.scatter(y, y, c = y, cmap = 'hsv')\n",
    "plt.clf()\n",
    "plt.colorbar(plot)\n",
    "plt.bar(list(df.index), list(df.mean(axis = 1)), width = 0.5, yerr = ([150000, 90000, 120000, 55000]/np.sqrt(3650)), color = colors);\n",
    "plt.xticks(list(df.index), list(df.index))\n",
    "plt.axhline(y=36000, color='black', linestyle='-')\n",
    "plt.yticks(list(plt.yticks()[0]) + [36000]);"
   ]
  }
 ],
 "metadata": {
  "kernelspec": {
   "display_name": "Python 3",
   "language": "python",
   "name": "python3"
  },
  "language_info": {
   "codemirror_mode": {
    "name": "ipython",
    "version": 3
   },
   "file_extension": ".py",
   "mimetype": "text/x-python",
   "name": "python",
   "nbconvert_exporter": "python",
   "pygments_lexer": "ipython3",
   "version": "3.6.7"
  }
 },
 "nbformat": 4,
 "nbformat_minor": 2
}
